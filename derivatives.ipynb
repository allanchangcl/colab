{
  "nbformat": 4,
  "nbformat_minor": 0,
  "metadata": {
    "colab": {
      "name": "derivatives.ipynb",
      "provenance": [],
      "authorship_tag": "ABX9TyOQcx90jnyFTkJKuyxq2JSv",
      "include_colab_link": true
    },
    "kernelspec": {
      "name": "python3",
      "display_name": "Python 3"
    },
    "language_info": {
      "name": "python"
    }
  },
  "cells": [
    {
      "cell_type": "markdown",
      "metadata": {
        "id": "view-in-github",
        "colab_type": "text"
      },
      "source": [
        "<a href=\"https://colab.research.google.com/github/allanchangcl/colab/blob/main/derivatives.ipynb\" target=\"_parent\"><img src=\"https://colab.research.google.com/assets/colab-badge.svg\" alt=\"Open In Colab\"/></a>"
      ]
    },
    {
      "cell_type": "code",
      "metadata": {
        "id": "vIQh42ErWhEA"
      },
      "source": [
        "# import sympy as sp\n",
        "# from sympy import diff, sin, exp\n",
        "# from sympy import Symbol\n",
        "from sympy import *"
      ],
      "execution_count": 27,
      "outputs": []
    },
    {
      "cell_type": "code",
      "metadata": {
        "id": "QoKcGw7hWpNu"
      },
      "source": [
        "# x = Symbol('x')\n",
        "# P = Symbol('P')\n",
        "# A = Symbol('A')\n",
        "i, A, P, N = symbols('i A P N')\n",
        "# x, y, z = symbols('x y z')"
      ],
      "execution_count": 46,
      "outputs": []
    },
    {
      "cell_type": "code",
      "metadata": {
        "colab": {
          "base_uri": "https://localhost:8080/",
          "height": 38
        },
        "id": "MCa8ORouW7lc",
        "outputId": "6a61c655-e24b-4dcf-8a11-23d70167a0fd"
      },
      "source": [
        "# sp.diff(x**5)\n",
        "expr=i**5\n",
        "expr\n",
        "diff(expr,i)"
      ],
      "execution_count": 47,
      "outputs": [
        {
          "output_type": "execute_result",
          "data": {
            "text/latex": "$\\displaystyle 5 i^{4}$",
            "text/plain": [
              "5*i**4"
            ]
          },
          "metadata": {},
          "execution_count": 47
        }
      ]
    },
    {
      "cell_type": "code",
      "metadata": {
        "colab": {
          "base_uri": "https://localhost:8080/",
          "height": 58
        },
        "id": "VzdVONtbXzVi",
        "outputId": "73c101d1-5c23-4882-cd00-c1b75d554c2a"
      },
      "source": [
        "# find derivative of interest formula\n",
        "expr1 = P-P*((1+i)**-N)-i*A\n",
        "expr1\n",
        "diff(expr1, i)"
      ],
      "execution_count": 56,
      "outputs": [
        {
          "output_type": "execute_result",
          "data": {
            "text/latex": "$\\displaystyle - A + \\frac{N P \\left(i + 1\\right)^{- N}}{i + 1}$",
            "text/plain": [
              "-A + N*P*(i + 1)**(-N)/(i + 1)"
            ]
          },
          "metadata": {},
          "execution_count": 56
        }
      ]
    },
    {
      "cell_type": "code",
      "metadata": {
        "colab": {
          "base_uri": "https://localhost:8080/"
        },
        "id": "2Sm6vU40ezOn",
        "outputId": "35c18c03-7afc-4494-e861-e7a95a25da96"
      },
      "source": [
        "expr_diff = Derivative(expr1, i)\n",
        "print(\"Value of the derivative : {} \".format(expr_diff.doit()))"
      ],
      "execution_count": 57,
      "outputs": [
        {
          "output_type": "stream",
          "name": "stdout",
          "text": [
            "Value of the derivative : -A + N*P*(i + 1)**(-N)/(i + 1) \n"
          ]
        }
      ]
    }
  ]
}