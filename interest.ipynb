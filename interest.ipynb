{
  "nbformat": 4,
  "nbformat_minor": 0,
  "metadata": {
    "colab": {
      "name": "interest.ipynb",
      "provenance": [],
      "authorship_tag": "ABX9TyOodWkPhc/jweoJ3uAP5U0j",
      "include_colab_link": true
    },
    "kernelspec": {
      "name": "python3",
      "display_name": "Python 3"
    },
    "language_info": {
      "name": "python"
    }
  },
  "cells": [
    {
      "cell_type": "markdown",
      "metadata": {
        "id": "view-in-github",
        "colab_type": "text"
      },
      "source": [
        "<a href=\"https://colab.research.google.com/github/allanchangcl/colab/blob/main/interest.ipynb\" target=\"_parent\"><img src=\"https://colab.research.google.com/assets/colab-badge.svg\" alt=\"Open In Colab\"/></a>"
      ]
    },
    {
      "cell_type": "code",
      "metadata": {
        "colab": {
          "base_uri": "https://localhost:8080/"
        },
        "id": "8EZPM5VYeQ4P",
        "outputId": "6f22a741-43be-48ec-fbf6-f6260f8e1a0c"
      },
      "source": [
        "!pip install numpy_financial"
      ],
      "execution_count": null,
      "outputs": [
        {
          "output_type": "stream",
          "name": "stdout",
          "text": [
            "Collecting numpy_financial\n",
            "  Downloading numpy_financial-1.0.0-py3-none-any.whl (14 kB)\n",
            "Requirement already satisfied: numpy>=1.15 in /usr/local/lib/python3.7/dist-packages (from numpy_financial) (1.19.5)\n",
            "Installing collected packages: numpy-financial\n",
            "Successfully installed numpy-financial-1.0.0\n"
          ]
        }
      ]
    },
    {
      "cell_type": "code",
      "metadata": {
        "id": "YTyFnOB6djB8"
      },
      "source": [
        "import numpy as np\n",
        "import numpy_financial as npf"
      ],
      "execution_count": null,
      "outputs": []
    },
    {
      "cell_type": "code",
      "metadata": {
        "id": "IVRzJEidef_C"
      },
      "source": [
        "principal = 100000\n",
        "annual_rate = 17.96 / 100\n",
        "t = 12\n",
        "monthly_rate = annual_rate/12\n",
        "per = np.arange(t) + 1\n",
        "interest_paids = npf.ipmt(monthly_rate, per, t, principal)\n",
        "principal_paids = npf.ppmt(monthly_rate, per, t, principal)\n",
        "monthly_payment = (npf.pmt(monthly_rate, t, principal)) * -1 "
      ],
      "execution_count": null,
      "outputs": []
    },
    {
      "cell_type": "code",
      "metadata": {
        "colab": {
          "base_uri": "https://localhost:8080/"
        },
        "id": "9Qit1o8wfEBD",
        "outputId": "7e3ae3b1-f9b8-45a3-91b2-4898bf9101ef"
      },
      "source": [
        "fmt1 = '{0:s} {1:s} {2:s} {3:s} {4:s}'\n",
        "fmt2 = '{0:2d} {1:12.2f} {2:15.2f} {3:15.2f} {4:15.2f}'\n",
        "fmt3 = '{0:2d} {1:12.2f} {2:15.2f} {3:15.2f} {4:15.2f}'\n",
        "\n",
        "print(fmt1.format('Term', 'Principal Paid', 'Interest Paid', 'Remaining Principal', 'Monthly Payment'))\n",
        "print(fmt2.format(0, 0, 0, principal, 0))\n",
        "\n",
        "for n in per:\n",
        "    i = n - 1\n",
        "    principal = principal + principal_paids[i]\n",
        "    print(fmt3.format(n, principal_paids[i], interest_paids[i], principal, monthly_payment))"
      ],
      "execution_count": null,
      "outputs": [
        {
          "output_type": "stream",
          "name": "stdout",
          "text": [
            "Term Principal Paid Interest Paid Remaining Principal Monthly Payment\n",
            " 0         0.00            0.00       100000.00            0.00\n",
            " 1     -7669.43        -1496.67        92330.57         9166.10\n",
            " 2     -7784.21        -1381.88        84546.36         9166.10\n",
            " 3     -7900.72        -1265.38        76645.64         9166.10\n",
            " 4     -8018.97        -1147.13        68626.67         9166.10\n",
            " 5     -8138.98        -1027.11        60487.69         9166.10\n",
            " 6     -8260.80         -905.30        52226.89         9166.10\n",
            " 7     -8384.43         -781.66        43842.46         9166.10\n",
            " 8     -8509.92         -656.18        35332.54         9166.10\n",
            " 9     -8637.29         -528.81        26695.25         9166.10\n",
            "10     -8766.56         -399.54        17928.70         9166.10\n",
            "11     -8897.76         -268.33         9030.93         9166.10\n",
            "12     -9030.93         -135.16           -0.00         9166.10\n"
          ]
        }
      ]
    },
    {
      "cell_type": "code",
      "metadata": {
        "colab": {
          "base_uri": "https://localhost:8080/"
        },
        "id": "_9762YSOivXR",
        "outputId": "3443a379-d292-4d67-b50c-99698614a2cb"
      },
      "source": [
        "per"
      ],
      "execution_count": null,
      "outputs": [
        {
          "output_type": "execute_result",
          "data": {
            "text/plain": [
              "array([ 1,  2,  3,  4,  5,  6,  7,  8,  9, 10, 11, 12])"
            ]
          },
          "metadata": {},
          "execution_count": 32
        }
      ]
    },
    {
      "cell_type": "code",
      "metadata": {
        "colab": {
          "base_uri": "https://localhost:8080/"
        },
        "id": "HLYxoaJinwnP",
        "outputId": "8463cbcc-9288-405a-ea11-d16472d099db"
      },
      "source": [
        "npf.rate(12,-9166.10,100000,0) * 100 * 12"
      ],
      "execution_count": null,
      "outputs": [
        {
          "output_type": "execute_result",
          "data": {
            "text/plain": [
              "17.960089430787626"
            ]
          },
          "metadata": {},
          "execution_count": 42
        }
      ]
    }
  ]
}